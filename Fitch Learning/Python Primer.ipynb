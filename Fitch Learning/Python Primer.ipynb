{
 "cells": [
  {
   "cell_type": "markdown",
   "id": "b6d8f4db",
   "metadata": {},
   "source": [
    "# Financial Professional Python Primer"
   ]
  },
  {
   "cell_type": "markdown",
   "id": "819ba99e",
   "metadata": {},
   "source": [
    "## Python\n",
    "\n",
    "### What is Python\n",
    "\n",
    "- A (leading) programming language\n",
    "- OS-agnostic\n",
    "- Multiple uses\n",
    "- Open source -> Community contributions -> **Most useful contributions made in the form of LIBRARIES**\n",
    "\n",
    "`Numpy`, `pandas`, `Matplotlib`, `SciPy`, `scikit-learn`, `TensorFlow` and `PyTorch` are some of the most popular libraries for mathematical computing, data wrangling and manipulation, data visualization, scientific computing and machine learning.\n",
    "\n",
    "### Jupyter Notebooks\n",
    "\n",
    "A hugely popular, web-based, interactive computational environments that allows users to write, run, test, explore and share codes in various programming languages. It's widely used in data analytics, machine learning, scientific computing, research and education.\n",
    "\n",
    "JN was first designed for Python, but some other languages are supported now.\n",
    "\n",
    "## Core Syntax of Python\n",
    "\n",
    "### Variables\n",
    "\n",
    "**Everything is an object in Python.** It could be some text, a number or something more complex.\n",
    "\n",
    "Consider ways to create a variable and to assign the variable a value. Once done, **the variable will turn a reference to the object that holds that value in memory**."
   ]
  },
  {
   "cell_type": "code",
   "execution_count": 21,
   "id": "4ab0d6da",
   "metadata": {},
   "outputs": [
    {
     "data": {
      "text/plain": [
       "5.2"
      ]
     },
     "execution_count": 21,
     "metadata": {},
     "output_type": "execute_result"
    }
   ],
   "source": [
    "x = 5.20\n",
    "x"
   ]
  },
  {
   "cell_type": "markdown",
   "id": "39df7c76",
   "metadata": {},
   "source": [
    "(You may think about why the second line, which contains only one single `x`, may work for Jupyter Notebook to output the current value of `x`. That is because JN has a built-in feature to print the last line in every single cell where possible, as we don't have to explicitly ask Python to print the variable.)\n",
    "\n",
    "In the cell above, the float `5.2` has been assigned to the variable `x`.\n",
    "\n",
    "When choosing a name for variables in Python, rules exist.\n",
    "\n",
    "- Variables can be of any length but can only contain alpha-numeric characters and underscores.\n",
    "- Variable names cannot start with a number.\n",
    "\n",
    "Naming conventions like Camel, Pascal and Snake case are recommended when naming variables.\n",
    "\n",
    "- **Camel case**: The first word is in lower case and all subsequent words have capitalized first letters.\n",
    "- **Pascal case**: The first letter of each word is capitalized.\n",
    "- **Snake case**: All words are in lower case but separated by underscores.\n",
    "\n",
    "For example, for a concept of `farming subsidies`, we may name the variable as `farmingSubsidies` in Camel case, `FarmingSubsidies` in Pascal case or `farming_subsidies` in Snake case.\n",
    "\n",
    "### Arithmetic Operators\n",
    "\n",
    "| Python Arith. Opr. | Maths. Op. |\n",
    "| ----------- | ----------- |\n",
    "| `+` | Addition |\n",
    "| `-` | Subtraction |\n",
    "| `*` | Multiplication |\n",
    "| `/` | Division |\n",
    "| `//` | Division which rounds the results down to the nearest whole integer value|\n",
    "| `**` | Exponentiation |\n",
    "| `%` | Complex operations such as finding the remainder of 2 numbers |\n",
    "\n",
    "#### Addition & Subtraction Operators\n",
    "\n",
    "Easy. Just take a look at the result below."
   ]
  },
  {
   "cell_type": "code",
   "execution_count": 22,
   "id": "71c5744d",
   "metadata": {},
   "outputs": [
    {
     "data": {
      "text/plain": [
       "'6.2 -4.2'"
      ]
     },
     "execution_count": 22,
     "metadata": {},
     "output_type": "execute_result"
    }
   ],
   "source": [
    "additionResult = 1 + x\n",
    "subtractionResult = 1 - x\n",
    "str(additionResult) + \" \" + str(subtractionResult)"
   ]
  },
  {
   "cell_type": "markdown",
   "id": "cd90e651",
   "metadata": {},
   "source": [
    "(You may be wondering why `x` can be calculated without assigning any values - that is because you have assigned a value to the variable in chapters above.)\n",
    "\n",
    "As is shown, addition in Python is denoted by a plus sign and subtraction is denoted by a minus symbol. Both are similar to that used in applications like Microsoft Excel.\n",
    "\n",
    "#### Multiplication & Division Operators\n",
    "\n",
    "Easy. Just take a look at the result below."
   ]
  },
  {
   "cell_type": "code",
   "execution_count": 23,
   "id": "8d0d9b45",
   "metadata": {},
   "outputs": [
    {
     "name": "stdout",
     "output_type": "stream",
     "text": [
      "26.0 32 25\n",
      "0.4 0 2\n"
     ]
    }
   ],
   "source": [
    "multiplicationResult = x * 5\n",
    "y = 2\n",
    "multiplicationResultExp1 = y ** 5\n",
    "multiplicationResultExp2 = 5 ** y\n",
    "divisionResult = y / 5\n",
    "divisionResultQuotient = y // 5\n",
    "divisionResultRemainder = y % 5\n",
    "print(str(multiplicationResult) + \" \" + str(multiplicationResultExp1) + \" \" + str(multiplicationResultExp2)) \n",
    "print(str(divisionResult) + \" \" + str(divisionResultQuotient) + \" \" + str(divisionResultRemainder))"
   ]
  },
  {
   "cell_type": "markdown",
   "id": "e0452aad",
   "metadata": {},
   "source": [
    "Multiplication, as is shown by `multiplicationResult`, will keep the calculation result's type the same with that of the multipliers. $x=5.2$, which is a float variable, will make $5x=26$, the result, also a float.\n",
    "\n",
    "From `multiplicationResultExp1` and `multiplicationResultExp2`, it can be easily discovered that equation $a^b$ should be translated into `a ** b`, rather than `b ** a` in Python.\n",
    "\n",
    "### Multiple Variable Assignment\n",
    "\n",
    "Different from C++ or else, we can assign values to multiple variables at the same time.\n",
    "\n",
    "For multiple variables to which we want to assign the same value, we can use equation sign to connect all variables and value."
   ]
  },
  {
   "cell_type": "code",
   "execution_count": 24,
   "id": "33ed05dd",
   "metadata": {},
   "outputs": [
    {
     "data": {
      "text/plain": [
       "(5, 5, 5)"
      ]
     },
     "execution_count": 24,
     "metadata": {},
     "output_type": "execute_result"
    }
   ],
   "source": [
    "x = y = z = 5\n",
    "x, y, z"
   ]
  },
  {
   "cell_type": "markdown",
   "id": "22dd92f4",
   "metadata": {},
   "source": [
    "For those to which we want to assign different values, we can use commas and a equation sign to assign them respectively."
   ]
  },
  {
   "cell_type": "code",
   "execution_count": 25,
   "id": "51349c1f",
   "metadata": {},
   "outputs": [
    {
     "data": {
      "text/plain": [
       "(5, 6, 7)"
      ]
     },
     "execution_count": 25,
     "metadata": {},
     "output_type": "execute_result"
    }
   ],
   "source": [
    "x, y, z = 5, 6, 7\n",
    "x, y, z"
   ]
  },
  {
   "cell_type": "markdown",
   "id": "41fb5db4",
   "metadata": {},
   "source": [
    "### Variable Value Change\n",
    "\n",
    "To change the value of a variable we've previously assigned, we can just make a reassignment. We can also use a arithmetic operator along with an equation symbol to change the value of the same variable.\n",
    "\n",
    "Consider a variable containing the FX rate for EURUSD, which is currently 1.10. It needs to be changed to 1.125, so we can use the following code to make the change to the variable."
   ]
  },
  {
   "cell_type": "code",
   "execution_count": 26,
   "id": "6a73039e",
   "metadata": {},
   "outputs": [
    {
     "data": {
      "text/plain": [
       "1.125"
      ]
     },
     "execution_count": 26,
     "metadata": {},
     "output_type": "execute_result"
    }
   ],
   "source": [
    "EURUSD = 1.10\n",
    "EURUSD += 0.025\n",
    "EURUSD"
   ]
  },
  {
   "cell_type": "markdown",
   "id": "c85b2d9a",
   "metadata": {},
   "source": [
    "### Operators on Strings\n",
    "\n",
    "#### Concatenation\n",
    "\n",
    "Use an addition operator to add strings together.\n",
    "\n",
    "#### Repetition\n",
    "\n",
    "To repeat a string multiple times, we can use the asterisk symbol `*` to specify the number of repetitions."
   ]
  },
  {
   "cell_type": "code",
   "execution_count": 27,
   "id": "51ea2ad3",
   "metadata": {},
   "outputs": [
    {
     "name": "stdout",
     "output_type": "stream",
     "text": [
      "Hello World! \n",
      "Hello World! Hello World! Hello World! Hello World! Hello World! \n"
     ]
    }
   ],
   "source": [
    "y = \"Hello\" + \" \" + \"World!\" + \" \"\n",
    "print(y)\n",
    "print(y * 5)"
   ]
  },
  {
   "cell_type": "markdown",
   "id": "6814ab61",
   "metadata": {},
   "source": [
    "## Data Types and Collections\n",
    "\n",
    "Python has various built-in data types. 4 *simple* <span style=\"color:gray; font-size:50%\">holding only a single value</span> ones are Booleans (`bool`), Integers (`int`), Floats (`float`) and Strings (`str`).\n",
    "\n",
    "Value of Booleans in Python should feature a capitalized first letter."
   ]
  },
  {
   "cell_type": "code",
   "execution_count": 1,
   "id": "b1d04274",
   "metadata": {},
   "outputs": [
    {
     "data": {
      "text/plain": [
       "bool"
      ]
     },
     "execution_count": 1,
     "metadata": {},
     "output_type": "execute_result"
    }
   ],
   "source": [
    "x = False\n",
    "type(x)"
   ]
  },
  {
   "cell_type": "code",
   "execution_count": 2,
   "id": "27e293ed",
   "metadata": {},
   "outputs": [
    {
     "data": {
      "text/plain": [
       "bool"
      ]
     },
     "execution_count": 2,
     "metadata": {},
     "output_type": "execute_result"
    }
   ],
   "source": [
    "x = True\n",
    "type(x)"
   ]
  },
  {
   "cell_type": "code",
   "execution_count": 3,
   "id": "4c143ed7",
   "metadata": {},
   "outputs": [
    {
     "data": {
      "text/plain": [
       "int"
      ]
     },
     "execution_count": 3,
     "metadata": {},
     "output_type": "execute_result"
    }
   ],
   "source": [
    "x = 500\n",
    "type(x)"
   ]
  },
  {
   "cell_type": "code",
   "execution_count": 4,
   "id": "8e128f72",
   "metadata": {},
   "outputs": [
    {
     "data": {
      "text/plain": [
       "float"
      ]
     },
     "execution_count": 4,
     "metadata": {},
     "output_type": "execute_result"
    }
   ],
   "source": [
    "x = 500.0\n",
    "type(x)"
   ]
  },
  {
   "cell_type": "code",
   "execution_count": 5,
   "id": "98b8a5f7",
   "metadata": {},
   "outputs": [
    {
     "data": {
      "text/plain": [
       "str"
      ]
     },
     "execution_count": 5,
     "metadata": {},
     "output_type": "execute_result"
    }
   ],
   "source": [
    "x = \"500.0\"\n",
    "type(x)"
   ]
  },
  {
   "cell_type": "markdown",
   "id": "bb258550",
   "metadata": {},
   "source": [
    "Logical query can also be made in Python, which will return a `bool` type."
   ]
  },
  {
   "cell_type": "code",
   "execution_count": 6,
   "id": "c6ce74c6",
   "metadata": {},
   "outputs": [
    {
     "data": {
      "text/plain": [
       "bool"
      ]
     },
     "execution_count": 6,
     "metadata": {},
     "output_type": "execute_result"
    }
   ],
   "source": [
    "x = 1 > 2\n",
    "type(x)"
   ]
  },
  {
   "cell_type": "markdown",
   "id": "bf3647e4",
   "metadata": {},
   "source": [
    "### Lists and Tuples\n",
    "\n",
    "Python allows its users to build collections of simple data types. They can turn useful to collect errors, filenames or other simple pieces of data that users can inspect or audit later.\n",
    "\n",
    "#### Lists\n",
    "\n",
    "The most versatile of the collections discussed, used to store multiple items in a single variable.\n",
    "\n",
    "**Items in a Python list are ordered,** which can be altered after creation and items in the list can be added or deleted at any time. The feature is known as **Mutability**.\n",
    "\n",
    "List in Python is formed as a collection of comma-separated values wrapped by square brackets `[]`."
   ]
  },
  {
   "cell_type": "code",
   "execution_count": 7,
   "id": "814d85ff",
   "metadata": {},
   "outputs": [
    {
     "data": {
      "text/plain": [
       "list"
      ]
     },
     "execution_count": 7,
     "metadata": {},
     "output_type": "execute_result"
    }
   ],
   "source": [
    "currencyList = [\"CNY\", \"HKD\", \"USD\", \"JPY\"]\n",
    "type(currencyList)"
   ]
  },
  {
   "cell_type": "code",
   "execution_count": 8,
   "id": "f7a384d3",
   "metadata": {},
   "outputs": [
    {
     "data": {
      "text/plain": [
       "['CNY', 'HKD', 'USD', 'JPY']"
      ]
     },
     "execution_count": 8,
     "metadata": {},
     "output_type": "execute_result"
    }
   ],
   "source": [
    "currencyList"
   ]
  },
  {
   "cell_type": "code",
   "execution_count": 9,
   "id": "5aee94b1",
   "metadata": {},
   "outputs": [
    {
     "data": {
      "text/plain": [
       "False"
      ]
     },
     "execution_count": 9,
     "metadata": {},
     "output_type": "execute_result"
    }
   ],
   "source": [
    "currencyList == ['JPY', 'CNY', 'HKD', 'USD']"
   ]
  },
  {
   "cell_type": "markdown",
   "id": "e7e6bc9b",
   "metadata": {},
   "source": [
    "#### Tuples\n",
    "\n",
    "Another ordered collection data type in Python. The difference from lists is that tuples are **immutable** - once created, tuples cannot be changed.\n",
    "\n",
    "Tuples are formed as a collection of comma-separated values wrapped by round brackets `()`."
   ]
  },
  {
   "cell_type": "code",
   "execution_count": 10,
   "id": "7c4111ad",
   "metadata": {},
   "outputs": [
    {
     "data": {
      "text/plain": [
       "tuple"
      ]
     },
     "execution_count": 10,
     "metadata": {},
     "output_type": "execute_result"
    }
   ],
   "source": [
    "currencyList = 'CNY', 'HKD', 'USD', 'JPY'\n",
    "type(currencyList)"
   ]
  },
  {
   "cell_type": "code",
   "execution_count": 11,
   "id": "94d09fe0",
   "metadata": {},
   "outputs": [
    {
     "data": {
      "text/plain": [
       "('CNY', 'HKD', 'USD', 'JPY')"
      ]
     },
     "execution_count": 11,
     "metadata": {},
     "output_type": "execute_result"
    }
   ],
   "source": [
    "currencyList"
   ]
  },
  {
   "cell_type": "markdown",
   "id": "a3db1b81",
   "metadata": {},
   "source": [
    "We can access a certain (maybe the $n$-th) element in a tuple $A$ by using `A[n]`."
   ]
  },
  {
   "cell_type": "code",
   "execution_count": 12,
   "id": "6fa5e7f3",
   "metadata": {},
   "outputs": [
    {
     "data": {
      "text/plain": [
       "'HKD'"
      ]
     },
     "execution_count": 12,
     "metadata": {},
     "output_type": "execute_result"
    }
   ],
   "source": [
    "currencyList[1]"
   ]
  },
  {
   "cell_type": "markdown",
   "id": "5a2aaa39",
   "metadata": {},
   "source": [
    "Tuple can also contain tuples inside."
   ]
  },
  {
   "cell_type": "code",
   "execution_count": 13,
   "id": "ade5867c",
   "metadata": {},
   "outputs": [
    {
     "data": {
      "text/plain": [
       "tuple"
      ]
     },
     "execution_count": 13,
     "metadata": {},
     "output_type": "execute_result"
    }
   ],
   "source": [
    "fxList = (('CNY', 7.1, 'USD'), ('CNY', 19.45, 'JPY'))\n",
    "type(fxList)"
   ]
  },
  {
   "cell_type": "markdown",
   "id": "f576a0eb",
   "metadata": {},
   "source": [
    "We can get the $n$-th tuple of all tuples within the tuple $A$ by using `A[n]`. Similarly, we can get the $m$-th element in tuple $A_n$ by using `A[n][m]`."
   ]
  },
  {
   "cell_type": "code",
   "execution_count": 14,
   "id": "df67589b",
   "metadata": {},
   "outputs": [
    {
     "data": {
      "text/plain": [
       "('CNY', 19.45, 'JPY')"
      ]
     },
     "execution_count": 14,
     "metadata": {},
     "output_type": "execute_result"
    }
   ],
   "source": [
    "fxList[1]"
   ]
  },
  {
   "cell_type": "code",
   "execution_count": 15,
   "id": "ebd101ad",
   "metadata": {},
   "outputs": [
    {
     "data": {
      "text/plain": [
       "'JPY'"
      ]
     },
     "execution_count": 15,
     "metadata": {},
     "output_type": "execute_result"
    }
   ],
   "source": [
    "fxList[1][2]"
   ]
  },
  {
   "cell_type": "markdown",
   "id": "fa5d3aa4",
   "metadata": {},
   "source": [
    "### Indexing & Slicing\n",
    "\n",
    "#### Indexing\n",
    "\n",
    "The process of calling, accessing or locating a specific item inside a collection in Python. Syntax is simple and consistent.\n",
    "\n",
    "Indices are usually integers but can also be strings, depending on the collection type.\n",
    "\n",
    "Note: We can directly get the last element of a collection by marking the index `-1`. Similarly, **we can index the elements from the final element by using the negative integers as index.**"
   ]
  },
  {
   "cell_type": "code",
   "execution_count": 16,
   "id": "2b01a237",
   "metadata": {},
   "outputs": [
    {
     "data": {
      "text/plain": [
       "'GBP'"
      ]
     },
     "execution_count": 16,
     "metadata": {},
     "output_type": "execute_result"
    }
   ],
   "source": [
    "currencyList = ['CNY', 'JPY', 'USD', 'GBP']\n",
    "currencyList[-1]"
   ]
  },
  {
   "cell_type": "code",
   "execution_count": 28,
   "id": "33cdd5fe",
   "metadata": {},
   "outputs": [
    {
     "data": {
      "text/plain": [
       "'USD'"
      ]
     },
     "execution_count": 28,
     "metadata": {},
     "output_type": "execute_result"
    }
   ],
   "source": [
    "currencyList[-2]"
   ]
  },
  {
   "cell_type": "markdown",
   "id": "476c83f5",
   "metadata": {},
   "source": [
    "We can also change the value of a certain element $A_n$ by methods mentioned in *Variables* chapter."
   ]
  },
  {
   "cell_type": "code",
   "execution_count": 17,
   "id": "101a5d77",
   "metadata": {},
   "outputs": [
    {
     "data": {
      "text/plain": [
       "['CNY', 'JPY', 'USD', 'EUR']"
      ]
     },
     "execution_count": 17,
     "metadata": {},
     "output_type": "execute_result"
    }
   ],
   "source": [
    "currencyList[3] = 'EUR'\n",
    "currencyList"
   ]
  },
  {
   "cell_type": "markdown",
   "id": "136231b0",
   "metadata": {},
   "source": [
    "#### Slicing\n",
    "\n",
    "A technique to extract one or more element from a Python collection, allowing users to specify an index range for items they want to return. Also available for a string.\n",
    "\n",
    "The basic syntax for slicing is `list_name[start_index:end_index]`. The start index goes before the colon and the end one goes after, and **the range's end goes under the rule of Upper-bound exclusive** <span style=\"color:gray; font-size:50%\">the end index will not be included</span> but the start point is lower-bound inclusive."
   ]
  },
  {
   "cell_type": "code",
   "execution_count": 21,
   "id": "35a888a6",
   "metadata": {},
   "outputs": [
    {
     "data": {
      "text/plain": [
       "['USD']"
      ]
     },
     "execution_count": 21,
     "metadata": {},
     "output_type": "execute_result"
    }
   ],
   "source": [
    "currencyList[2:3]"
   ]
  },
  {
   "cell_type": "code",
   "execution_count": 22,
   "id": "232140b5",
   "metadata": {},
   "outputs": [
    {
     "data": {
      "text/plain": [
       "['USD', 'EUR']"
      ]
     },
     "execution_count": 22,
     "metadata": {},
     "output_type": "execute_result"
    }
   ],
   "source": [
    "currencyList[2:4]"
   ]
  },
  {
   "cell_type": "markdown",
   "id": "64145a43",
   "metadata": {},
   "source": [
    "If `start_index` is left blank, Python will start the index from the beginning, returning the start of the list all the way up to index `end_index - 1`."
   ]
  },
  {
   "cell_type": "code",
   "execution_count": 23,
   "id": "60ba374b",
   "metadata": {},
   "outputs": [
    {
     "data": {
      "text/plain": [
       "['CNY', 'JPY', 'USD']"
      ]
     },
     "execution_count": 23,
     "metadata": {},
     "output_type": "execute_result"
    }
   ],
   "source": [
    "currencyList[:3]"
   ]
  },
  {
   "cell_type": "markdown",
   "id": "f75f051c",
   "metadata": {},
   "source": [
    "If `end_index` is left blank, Python will include all elements from the `start_index` to the end of the list, including the last element."
   ]
  },
  {
   "cell_type": "code",
   "execution_count": 24,
   "id": "82096c72",
   "metadata": {},
   "outputs": [
    {
     "data": {
      "text/plain": [
       "['USD', 'EUR']"
      ]
     },
     "execution_count": 24,
     "metadata": {},
     "output_type": "execute_result"
    }
   ],
   "source": [
    "currencyList[2:]"
   ]
  },
  {
   "cell_type": "markdown",
   "id": "fb90579c",
   "metadata": {},
   "source": [
    "### Dictionaries\n",
    "\n",
    "Another useful data type built into Python, indexed by **keys** of any immutable type.\n",
    "\n",
    "The approach of storing data is *mapping*. It's best to think of a dictionary as a set of key value pairs, with the requirement that keys are unique within the dict."
   ]
  },
  {
   "cell_type": "code",
   "execution_count": 25,
   "id": "67791ed2",
   "metadata": {},
   "outputs": [
    {
     "data": {
      "text/plain": [
       "dict"
      ]
     },
     "execution_count": 25,
     "metadata": {},
     "output_type": "execute_result"
    }
   ],
   "source": [
    "companies = {\n",
    "    \"HSBC\": \"HSBC Holdings\",\n",
    "    \"ABNB\": \"Airbnb, Inc.\"\n",
    "}\n",
    "type(companies)"
   ]
  },
  {
   "cell_type": "code",
   "execution_count": 26,
   "id": "0ec436da",
   "metadata": {},
   "outputs": [
    {
     "data": {
      "text/plain": [
       "{'HSBC': 'HSBC Holdings', 'ABNB': 'Airbnb, Inc.'}"
      ]
     },
     "execution_count": 26,
     "metadata": {},
     "output_type": "execute_result"
    }
   ],
   "source": [
    "companies"
   ]
  },
  {
   "cell_type": "code",
   "execution_count": 27,
   "id": "6bcf0784",
   "metadata": {},
   "outputs": [
    {
     "data": {
      "text/plain": [
       "'HSBC Holdings'"
      ]
     },
     "execution_count": 27,
     "metadata": {},
     "output_type": "execute_result"
    }
   ],
   "source": [
    "companies[\"HSBC\"]"
   ]
  },
  {
   "cell_type": "markdown",
   "id": "d4d0d1bd",
   "metadata": {},
   "source": [
    "## Logical & Membership Operators\n",
    "\n",
    "The 3 logical operators in Python are `and`, `or` and `not`. They will perform conjunction, disjunction and inversion operations respectively."
   ]
  },
  {
   "cell_type": "code",
   "execution_count": 30,
   "id": "48eb0467",
   "metadata": {},
   "outputs": [
    {
     "data": {
      "text/plain": [
       "False"
      ]
     },
     "execution_count": 30,
     "metadata": {},
     "output_type": "execute_result"
    }
   ],
   "source": [
    "1 == 1 and 2 == 1"
   ]
  },
  {
   "cell_type": "code",
   "execution_count": 31,
   "id": "203388da",
   "metadata": {},
   "outputs": [
    {
     "data": {
      "text/plain": [
       "True"
      ]
     },
     "execution_count": 31,
     "metadata": {},
     "output_type": "execute_result"
    }
   ],
   "source": [
    "1 == 1 or 2 == 1"
   ]
  },
  {
   "cell_type": "code",
   "execution_count": 32,
   "id": "cf7a93c6",
   "metadata": {},
   "outputs": [
    {
     "data": {
      "text/plain": [
       "False"
      ]
     },
     "execution_count": 32,
     "metadata": {},
     "output_type": "execute_result"
    }
   ],
   "source": [
    "not 1 == 1"
   ]
  },
  {
   "cell_type": "markdown",
   "id": "88e05dc3",
   "metadata": {},
   "source": [
    "`in`, the membership operator, will return `True` if a specified value is found in a sequence or container or `False` if otherwise."
   ]
  },
  {
   "cell_type": "code",
   "execution_count": 33,
   "id": "2174969f",
   "metadata": {},
   "outputs": [
    {
     "data": {
      "text/plain": [
       "False"
      ]
     },
     "execution_count": 33,
     "metadata": {},
     "output_type": "execute_result"
    }
   ],
   "source": [
    "\"GOOG\" in companies"
   ]
  },
  {
   "cell_type": "code",
   "execution_count": 34,
   "id": "d4e660b2",
   "metadata": {},
   "outputs": [
    {
     "data": {
      "text/plain": [
       "True"
      ]
     },
     "execution_count": 34,
     "metadata": {},
     "output_type": "execute_result"
    }
   ],
   "source": [
    "\"HSBC\" in companies"
   ]
  },
  {
   "cell_type": "markdown",
   "id": "895e887e",
   "metadata": {},
   "source": [
    "The membership operator can be used in combination with logical ones."
   ]
  },
  {
   "cell_type": "code",
   "execution_count": 35,
   "id": "e6a8824e",
   "metadata": {},
   "outputs": [
    {
     "data": {
      "text/plain": [
       "False"
      ]
     },
     "execution_count": 35,
     "metadata": {},
     "output_type": "execute_result"
    }
   ],
   "source": [
    "not \"HSBC\" in companies"
   ]
  },
  {
   "cell_type": "code",
   "execution_count": 36,
   "id": "93530115",
   "metadata": {},
   "outputs": [
    {
     "data": {
      "text/plain": [
       "False"
      ]
     },
     "execution_count": 36,
     "metadata": {},
     "output_type": "execute_result"
    }
   ],
   "source": [
    "not (\"HSBC\" in companies)"
   ]
  },
  {
   "cell_type": "code",
   "execution_count": 37,
   "id": "1694eac4",
   "metadata": {},
   "outputs": [
    {
     "data": {
      "text/plain": [
       "False"
      ]
     },
     "execution_count": 37,
     "metadata": {},
     "output_type": "execute_result"
    }
   ],
   "source": [
    "\"HSBC\" not in companies"
   ]
  },
  {
   "cell_type": "markdown",
   "id": "fc80ffad",
   "metadata": {},
   "source": [
    "## Control Flow\n",
    "\n",
    "### If Statements\n",
    "\n",
    "One of the most commonly used conditional statements in programming languages,  deciding whether certain statements will be executed or not. It checks for a given condition, if the condition is true, then the set of code present inside the if block will be executed."
   ]
  },
  {
   "cell_type": "code",
   "execution_count": 38,
   "id": "8a84dbff",
   "metadata": {},
   "outputs": [],
   "source": [
    "tesla = {\n",
    "    \"symbol\": \"TSLA\",\n",
    "    \"market_cap\": 610,\n",
    "    \"PE\": 60.55,\n",
    "    \"dividends\": False,\n",
    "    \"open_p\": 191.66,\n",
    "    \"close_p\": 190.72,\n",
    "    \"target_1yr\": 316.33\n",
    "}\n",
    "if tesla[\"close_p\"] <= 0.95 * tesla[\"open_p\"]:\n",
    "    print(\"Buy signal.\")"
   ]
  },
  {
   "cell_type": "markdown",
   "id": "ea75314f",
   "metadata": {},
   "source": [
    "### Branching\n",
    "\n",
    "Expand on the if statement by increasing the branching and adding in different responses to different conditions. To do this we can use the else function. When testing an if condition, if the condition is false, then it will execute the else block, which is the block where you will perform some actions when the condition is not true."
   ]
  },
  {
   "cell_type": "code",
   "execution_count": 39,
   "id": "82c14116",
   "metadata": {},
   "outputs": [
    {
     "name": "stdout",
     "output_type": "stream",
     "text": [
      "Wait for further drop.\n"
     ]
    }
   ],
   "source": [
    "if tesla[\"close_p\"] <= 0.95 * tesla[\"open_p\"]:\n",
    "    print(\"Buy signal.\")\n",
    "elif tesla[\"close_p\"] <= tesla[\"open_p\"]:\n",
    "    print(\"Wait for further drop.\")\n",
    "else:\n",
    "    print(\"Don't buy.\")"
   ]
  },
  {
   "cell_type": "markdown",
   "id": "15297da3",
   "metadata": {},
   "source": [
    "### For Loops\n",
    "\n",
    "A `for` loop in Python is a control flow statement used to repeatedly execute a group of statements as long as the condition is satisfied.\n",
    "\n",
    "The container must exist as a Python object and must be iterable. It can be a list, a dictionary, a string or a range."
   ]
  },
  {
   "cell_type": "code",
   "execution_count": 41,
   "id": "85a1d4cc",
   "metadata": {},
   "outputs": [
    {
     "name": "stdout",
     "output_type": "stream",
     "text": [
      "0\n",
      "1\n",
      "2\n",
      "3\n",
      "4\n"
     ]
    }
   ],
   "source": [
    "for item in [0,1,2,3,4]:\n",
    "    print(item)"
   ]
  },
  {
   "cell_type": "code",
   "execution_count": 40,
   "id": "84024826",
   "metadata": {},
   "outputs": [
    {
     "name": "stdout",
     "output_type": "stream",
     "text": [
      "symbol\n",
      "market_cap\n",
      "PE\n",
      "dividends\n",
      "open_p\n",
      "close_p\n",
      "target_1yr\n"
     ]
    }
   ],
   "source": [
    "for item in tesla:\n",
    "    print(item)"
   ]
  },
  {
   "cell_type": "code",
   "execution_count": 45,
   "id": "0a7f6009",
   "metadata": {},
   "outputs": [
    {
     "name": "stdout",
     "output_type": "stream",
     "text": [
      "The symbol is TSLA\n",
      "The market_cap is 610\n",
      "The PE is 60.55\n",
      "The dividends is False\n",
      "The open_p is 191.66\n",
      "The close_p is 190.72\n",
      "The target_1yr is 316.33\n"
     ]
    }
   ],
   "source": [
    "for key, value in tesla.items():\n",
    "    print(\"The\", key, \"is\", value)"
   ]
  },
  {
   "cell_type": "code",
   "execution_count": 42,
   "id": "c47fdb1b",
   "metadata": {},
   "outputs": [
    {
     "name": "stdout",
     "output_type": "stream",
     "text": [
      "P\n",
      "y\n",
      "t\n",
      "h\n",
      "o\n",
      "n\n"
     ]
    }
   ],
   "source": [
    "for item in \"Python\":\n",
    "    print(item)"
   ]
  },
  {
   "cell_type": "code",
   "execution_count": 43,
   "id": "9802dc33",
   "metadata": {},
   "outputs": [
    {
     "name": "stdout",
     "output_type": "stream",
     "text": [
      "0\n",
      "1\n",
      "2\n",
      "3\n",
      "4\n"
     ]
    }
   ],
   "source": [
    "for item in range(0, 5):\n",
    "    print(item)"
   ]
  }
 ],
 "metadata": {
  "kernelspec": {
   "display_name": "Python 3",
   "language": "python",
   "name": "python3"
  },
  "language_info": {
   "codemirror_mode": {
    "name": "ipython",
    "version": 3
   },
   "file_extension": ".py",
   "mimetype": "text/x-python",
   "name": "python",
   "nbconvert_exporter": "python",
   "pygments_lexer": "ipython3",
   "version": "3.9.1"
  }
 },
 "nbformat": 4,
 "nbformat_minor": 5
}
